{
 "cells": [
  {
   "cell_type": "markdown",
   "id": "5738744e-0b24-43ae-b9c5-24df40d87634",
   "metadata": {},
   "source": [
    "# 1. Importação de Bibliotecas"
   ]
  },
  {
   "cell_type": "code",
   "execution_count": 1,
   "id": "c9fbedf6-2c1e-4fbd-b9d0-a050e2d84b79",
   "metadata": {},
   "outputs": [],
   "source": [
    "import streamlit as st\n",
    "import pandas as pd\n",
    "import plotly.express as px\n",
    "import pyodbc"
   ]
  },
  {
   "cell_type": "markdown",
   "id": "44f2de18-0444-4719-98ea-7df7497d5461",
   "metadata": {},
   "source": [
    "# 2. Carregar Dados"
   ]
  },
  {
   "cell_type": "code",
   "execution_count": 2,
   "id": "1154c6ca-54e4-49be-bf93-0263f4d31de3",
   "metadata": {},
   "outputs": [
    {
     "name": "stderr",
     "output_type": "stream",
     "text": [
      "2024-10-22 15:49:19.363 WARNING streamlit.runtime.caching.cache_data_api: No runtime found, using MemoryCacheStorageManager\n"
     ]
    }
   ],
   "source": [
    "# Função para carregar dados com caching\n",
    "@st.cache_data\n",
    "def carregar_dados():\n",
    "    conn_str = (\n",
    "        'DRIVER={ODBC Driver 17 for SQL Server};'\n",
    "        'SERVER=localhost;'\n",
    "        'DATABASE=AdventureWorks2019;'\n",
    "        'Trusted_Connection=yes;'\n",
    "    )\n",
    "    conn = pyodbc.connect(conn_str)\n",
    "    \n",
    "    query = '''\n",
    "        SELECT \n",
    "            soh.OrderDate, \n",
    "            soh.TotalDue, \n",
    "            addr.StateProvinceID, \n",
    "            prod.Name AS ProductName\n",
    "        FROM Sales.SalesOrderHeader soh\n",
    "        JOIN Sales.SalesOrderDetail sod ON soh.SalesOrderID = sod.SalesOrderID\n",
    "        JOIN Person.Address addr ON soh.ShipToAddressID = addr.AddressID\n",
    "        JOIN Production.Product prod ON sod.ProductID = prod.ProductID\n",
    "    '''\n",
    "    \n",
    "    df = pd.read_sql(query, conn)\n",
    "    conn.close()\n",
    "        \n",
    "    df['OrderDate'] = pd.to_datetime(df['OrderDate'])\n",
    "    df['Ano'] = df['OrderDate'].dt.year\n",
    "    df['Mes'] = df['OrderDate'].dt.month\n",
    "    return df"
   ]
  },
  {
   "cell_type": "markdown",
   "id": "a052ebd2-cfe8-4461-95f6-37171450b1cc",
   "metadata": {},
   "source": [
    "# 3. Configurar Dashboard"
   ]
  },
  {
   "cell_type": "code",
   "execution_count": 3,
   "id": "3380563f-00ab-41d7-adde-3199d7f28991",
   "metadata": {},
   "outputs": [
    {
     "name": "stderr",
     "output_type": "stream",
     "text": [
      "2024-10-22 15:49:19.405 WARNING streamlit.runtime.scriptrunner_utils.script_run_context: Thread 'MainThread': missing ScriptRunContext! This warning can be ignored when running in bare mode.\n",
      "2024-10-22 15:49:22.171 \n",
      "  \u001b[33m\u001b[1mWarning:\u001b[0m to view this Streamlit app on a browser, run it with the following\n",
      "  command:\n",
      "\n",
      "    streamlit run C:\\Users\\01\\anaconda3\\Lib\\site-packages\\ipykernel_launcher.py [ARGUMENTS]\n",
      "2024-10-22 15:49:22.172 Thread 'MainThread': missing ScriptRunContext! This warning can be ignored when running in bare mode.\n",
      "2024-10-22 15:49:22.174 Thread 'MainThread': missing ScriptRunContext! This warning can be ignored when running in bare mode.\n",
      "2024-10-22 15:49:22.177 No runtime found, using MemoryCacheStorageManager\n",
      "2024-10-22 15:49:22.702 Thread 'Thread-5': missing ScriptRunContext! This warning can be ignored when running in bare mode.\n",
      "2024-10-22 15:49:22.720 Thread 'Thread-5': missing ScriptRunContext! This warning can be ignored when running in bare mode.\n",
      "C:\\Users\\01\\AppData\\Local\\Temp\\ipykernel_15176\\1409059636.py:24: UserWarning: pandas only supports SQLAlchemy connectable (engine/connection) or database string URI or sqlite3 DBAPI2 connection. Other DBAPI2 objects are not tested. Please consider using SQLAlchemy.\n",
      "  df = pd.read_sql(query, conn)\n",
      "2024-10-22 15:49:26.293 Thread 'MainThread': missing ScriptRunContext! This warning can be ignored when running in bare mode.\n",
      "2024-10-22 15:49:26.294 Thread 'MainThread': missing ScriptRunContext! This warning can be ignored when running in bare mode.\n",
      "2024-10-22 15:49:26.296 Thread 'MainThread': missing ScriptRunContext! This warning can be ignored when running in bare mode.\n",
      "2024-10-22 15:49:26.298 Thread 'MainThread': missing ScriptRunContext! This warning can be ignored when running in bare mode.\n"
     ]
    },
    {
     "data": {
      "text/plain": [
       "DeltaGenerator()"
      ]
     },
     "execution_count": 3,
     "metadata": {},
     "output_type": "execute_result"
    }
   ],
   "source": [
    "# Carregar dados\n",
    "df = carregar_dados()\n",
    "\n",
    "# Criação do dashboard no Streamlit\n",
    "st.title(\"Sales Insights Dashboard\")"
   ]
  },
  {
   "cell_type": "markdown",
   "id": "6c29078f-b48d-4480-be6b-8d172f438940",
   "metadata": {},
   "source": [
    "# 4. Filtros Interativos"
   ]
  },
  {
   "cell_type": "code",
   "execution_count": 4,
   "id": "f5f5bbe0-abe9-4c44-bd69-b03a80a6feb4",
   "metadata": {},
   "outputs": [
    {
     "name": "stderr",
     "output_type": "stream",
     "text": [
      "2024-10-22 15:49:26.364 Thread 'MainThread': missing ScriptRunContext! This warning can be ignored when running in bare mode.\n",
      "2024-10-22 15:49:26.365 Thread 'MainThread': missing ScriptRunContext! This warning can be ignored when running in bare mode.\n",
      "2024-10-22 15:49:26.394 Thread 'MainThread': missing ScriptRunContext! This warning can be ignored when running in bare mode.\n",
      "2024-10-22 15:49:26.395 Thread 'MainThread': missing ScriptRunContext! This warning can be ignored when running in bare mode.\n",
      "2024-10-22 15:49:26.401 Thread 'MainThread': missing ScriptRunContext! This warning can be ignored when running in bare mode.\n",
      "2024-10-22 15:49:26.404 Thread 'MainThread': missing ScriptRunContext! This warning can be ignored when running in bare mode.\n",
      "2024-10-22 15:49:26.406 Session state does not function when running a script without `streamlit run`\n",
      "2024-10-22 15:49:26.411 Thread 'MainThread': missing ScriptRunContext! This warning can be ignored when running in bare mode.\n",
      "2024-10-22 15:49:26.412 Thread 'MainThread': missing ScriptRunContext! This warning can be ignored when running in bare mode.\n",
      "2024-10-22 15:49:26.419 Thread 'MainThread': missing ScriptRunContext! This warning can be ignored when running in bare mode.\n",
      "2024-10-22 15:49:26.420 Thread 'MainThread': missing ScriptRunContext! This warning can be ignored when running in bare mode.\n",
      "2024-10-22 15:49:26.424 Thread 'MainThread': missing ScriptRunContext! This warning can be ignored when running in bare mode.\n",
      "2024-10-22 15:49:26.425 Thread 'MainThread': missing ScriptRunContext! This warning can be ignored when running in bare mode.\n",
      "2024-10-22 15:49:26.428 Thread 'MainThread': missing ScriptRunContext! This warning can be ignored when running in bare mode.\n",
      "2024-10-22 15:49:26.440 Thread 'MainThread': missing ScriptRunContext! This warning can be ignored when running in bare mode.\n",
      "2024-10-22 15:49:26.444 Thread 'MainThread': missing ScriptRunContext! This warning can be ignored when running in bare mode.\n",
      "2024-10-22 15:49:26.445 Thread 'MainThread': missing ScriptRunContext! This warning can be ignored when running in bare mode.\n",
      "2024-10-22 15:49:26.447 Thread 'MainThread': missing ScriptRunContext! This warning can be ignored when running in bare mode.\n",
      "2024-10-22 15:49:26.453 Thread 'MainThread': missing ScriptRunContext! This warning can be ignored when running in bare mode.\n",
      "2024-10-22 15:49:26.462 Thread 'MainThread': missing ScriptRunContext! This warning can be ignored when running in bare mode.\n",
      "2024-10-22 15:49:26.466 Thread 'MainThread': missing ScriptRunContext! This warning can be ignored when running in bare mode.\n",
      "2024-10-22 15:49:26.478 Thread 'MainThread': missing ScriptRunContext! This warning can be ignored when running in bare mode.\n",
      "2024-10-22 15:49:26.479 Thread 'MainThread': missing ScriptRunContext! This warning can be ignored when running in bare mode.\n",
      "2024-10-22 15:49:26.481 Thread 'MainThread': missing ScriptRunContext! This warning can be ignored when running in bare mode.\n",
      "2024-10-22 15:49:26.488 Thread 'MainThread': missing ScriptRunContext! This warning can be ignored when running in bare mode.\n"
     ]
    }
   ],
   "source": [
    "# Filtros interativos\n",
    "st.sidebar.header(\"Filtros\")\n",
    "\n",
    "produto = st.sidebar.selectbox('Selecione o Produto:', df['ProductName'].unique())\n",
    "regiao = st.sidebar.selectbox('Selecione a Região:', df['StateProvinceID'].unique())\n",
    "data_inicial = st.sidebar.date_input('Data Inicial', df['OrderDate'].min())\n",
    "data_final = st.sidebar.date_input('Data Final', df['OrderDate'].max())"
   ]
  },
  {
   "cell_type": "markdown",
   "id": "d2f21533-fbc6-4014-a999-5c1de92e98ef",
   "metadata": {},
   "source": [
    "# 5. Aplicação de Filtros e Visualizações"
   ]
  },
  {
   "cell_type": "code",
   "execution_count": 5,
   "id": "41876e59-af69-4b26-86b5-5e873ffd1ffe",
   "metadata": {},
   "outputs": [
    {
     "name": "stderr",
     "output_type": "stream",
     "text": [
      "2024-10-22 15:49:27.115 Thread 'MainThread': missing ScriptRunContext! This warning can be ignored when running in bare mode.\n",
      "2024-10-22 15:49:27.117 Thread 'MainThread': missing ScriptRunContext! This warning can be ignored when running in bare mode.\n",
      "2024-10-22 15:49:27.122 Thread 'MainThread': missing ScriptRunContext! This warning can be ignored when running in bare mode.\n",
      "2024-10-22 15:49:27.126 Thread 'MainThread': missing ScriptRunContext! This warning can be ignored when running in bare mode.\n"
     ]
    },
    {
     "data": {
      "text/plain": [
       "DeltaGenerator()"
      ]
     },
     "execution_count": 5,
     "metadata": {},
     "output_type": "execute_result"
    }
   ],
   "source": [
    "# Aplicando os filtros de forma eficiente\n",
    "df_filtrado = df.query(\n",
    "    \"ProductName == @produto and StateProvinceID == @regiao and OrderDate >= @data_inicial and OrderDate <= @data_final\"\n",
    ")\n",
    "\n",
    "# Gráfico de Barras - Vendas por Produto\n",
    "vendas_por_produto = df_filtrado.groupby('ProductName')['TotalDue'].sum().reset_index()\n",
    "fig_produto = px.bar(\n",
    "    vendas_por_produto, \n",
    "    x='ProductName', \n",
    "    y='TotalDue', \n",
    "    title=\"Vendas por Produto\",\n",
    "    labels={'TotalDue': 'Valor Total (R$)', 'ProductName': 'Produto'},\n",
    "    text_auto=True\n",
    ")\n",
    "st.plotly_chart(fig_produto)"
   ]
  },
  {
   "cell_type": "code",
   "execution_count": 6,
   "id": "5915f996-26f5-4ad9-944d-04d543388281",
   "metadata": {},
   "outputs": [
    {
     "name": "stderr",
     "output_type": "stream",
     "text": [
      "2024-10-22 15:49:27.321 Thread 'MainThread': missing ScriptRunContext! This warning can be ignored when running in bare mode.\n",
      "2024-10-22 15:49:27.323 Thread 'MainThread': missing ScriptRunContext! This warning can be ignored when running in bare mode.\n",
      "2024-10-22 15:49:27.327 Thread 'MainThread': missing ScriptRunContext! This warning can be ignored when running in bare mode.\n",
      "2024-10-22 15:49:27.330 Thread 'MainThread': missing ScriptRunContext! This warning can be ignored when running in bare mode.\n"
     ]
    },
    {
     "data": {
      "text/plain": [
       "DeltaGenerator()"
      ]
     },
     "execution_count": 6,
     "metadata": {},
     "output_type": "execute_result"
    }
   ],
   "source": [
    "# Gráfico de Linhas - Vendas ao Longo do Tempo\n",
    "vendas_por_tempo = df_filtrado.groupby(['Ano', 'Mes'])['TotalDue'].sum().reset_index()\n",
    "fig_tempo = px.line(\n",
    "    vendas_por_tempo, \n",
    "    x='Ano', \n",
    "    y='TotalDue', \n",
    "    title=\"Vendas ao Longo do Tempo\",\n",
    "    labels={'TotalDue': 'Valor Total (R$)', 'Ano': 'Ano'},\n",
    "    markers=True\n",
    ")\n",
    "st.plotly_chart(fig_tempo)"
   ]
  },
  {
   "cell_type": "markdown",
   "id": "577b2ddb-950e-498e-992a-aa860e262d32",
   "metadata": {},
   "source": [
    "# 6. KPI de Total de Vendas"
   ]
  },
  {
   "cell_type": "code",
   "execution_count": 7,
   "id": "d09521c8-86b5-437a-9457-faa6ceec148c",
   "metadata": {},
   "outputs": [
    {
     "name": "stderr",
     "output_type": "stream",
     "text": [
      "2024-10-22 15:49:27.365 Thread 'MainThread': missing ScriptRunContext! This warning can be ignored when running in bare mode.\n",
      "2024-10-22 15:49:27.372 Thread 'MainThread': missing ScriptRunContext! This warning can be ignored when running in bare mode.\n"
     ]
    },
    {
     "data": {
      "text/plain": [
       "DeltaGenerator()"
      ]
     },
     "execution_count": 7,
     "metadata": {},
     "output_type": "execute_result"
    }
   ],
   "source": [
    "# KPI de Total de Vendas\n",
    "total_vendas = df_filtrado['TotalDue'].sum()\n",
    "st.metric(\"Total de Vendas\", f\"R$ {total_vendas:,.2f}\")"
   ]
  }
 ],
 "metadata": {
  "kernelspec": {
   "display_name": "Python 3 (ipykernel)",
   "language": "python",
   "name": "python3"
  },
  "language_info": {
   "codemirror_mode": {
    "name": "ipython",
    "version": 3
   },
   "file_extension": ".py",
   "mimetype": "text/x-python",
   "name": "python",
   "nbconvert_exporter": "python",
   "pygments_lexer": "ipython3",
   "version": "3.12.4"
  }
 },
 "nbformat": 4,
 "nbformat_minor": 5
}
